{
 "cells": [
  {
   "cell_type": "code",
   "execution_count": 3,
   "id": "0ae70071-1518-4b37-a12a-f141b9bc94b6",
   "metadata": {},
   "outputs": [],
   "source": [
    "# Import required libraries\n",
    "import requests\n",
    "import pandas as pd\n",
    "from typing import List"
   ]
  },
  {
   "cell_type": "code",
   "execution_count": 17,
   "id": "8a58aee6-8124-4502-bee5-461e0383c7df",
   "metadata": {},
   "outputs": [],
   "source": [
    "# Function to fetch papers from PubMed API\n",
    "def get_papers_list(query: str) -> List[dict]:\n",
    "    # URL for PubMed API (Entrez)\n",
    "    url = \"https://eutils.ncbi.nlm.nih.gov/entrez/eutils/esearch.fcgi\"\n",
    "    \n",
    "    # API request to search PubMed using the query\n",
    "    response = requests.get(url, params={\"db\": \"pubmed\", \"term\": query, \"retmode\": \"json\"})\n",
    "    data = response.json()\n",
    "\n",
    "    # Extract PubMed IDs from the response\n",
    "    paper_ids = data.get(\"esearchresult\", {}).get(\"idlist\", [])\n",
    "\n",
    "    # URL to fetch detailed paper information\n",
    "    fetch_url = \"https://eutils.ncbi.nlm.nih.gov/entrez/eutils/esummary.fcgi\"\n",
    "    \n",
    "    papers = []\n",
    "    \n",
    "    # Loop through each paper ID and fetch the details\n",
    "    for paper_id in paper_ids:\n",
    "        response = requests.get(fetch_url, params={\"db\": \"pubmed\", \"id\": paper_id, \"retmode\": \"json\"})\n",
    "        paper_data = response.json().get(\"result\", {}).get(paper_id, {})\n",
    "        \n",
    "        title = paper_data.get(\"title\", \"N/A\")\n",
    "        publication_date = paper_data.get(\"pubdate\", \"N/A\")\n",
    "        authors = paper_data.get(\"authors\", [])\n",
    "        \n",
    "        # Filter non-academic authors and pharmaceutical/biotech companies\n",
    "        non_academic_authors = []\n",
    "        company_affiliations = []\n",
    "        corresponding_email = None\n",
    "        \n",
    "        for author in authors:\n",
    "            name = author.get(\"name\", \"\")\n",
    "            affiliation = author.get(\"affiliation\", \"\")\n",
    "            email = author.get(\"email\", \"\")\n",
    "\n",
    "            if \"university\" in affiliation.lower() or \"lab\" in affiliation.lower():\n",
    "                continue  # Skip academic affiliations\n",
    "            else:\n",
    "                non_academic_authors.append(name)\n",
    "                if \"pharmaceutical\" in affiliation.lower() or \"biotech\" in affiliation.lower():\n",
    "                    company_affiliations.append(affiliation)\n",
    "            \n",
    "            if email:\n",
    "                corresponding_email = email\n",
    "\n",
    "        # Ensure empty fields are represented as \"N/A\"\n",
    "        corresponding_email = corresponding_email if corresponding_email else \"N/A\"\n",
    "        company_affiliations = ', '.join(company_affiliations) if company_affiliations else \"N/A\"        \n",
    "\n",
    "        papers.append({\n",
    "            \"PubmedID\": paper_id,\n",
    "            \"Title\": title,\n",
    "            \"Publication Date\": publication_date,\n",
    "            \"Non-academic Author(s)\": ', '.join(non_academic_authors),\n",
    "            \"Company Affiliation(s)\": ', '.join(company_affiliations),\n",
    "            \"Corresponding Author Email\": corresponding_email\n",
    "        })\n",
    "    \n",
    "    return papers\n"
   ]
  },
  {
   "cell_type": "code",
   "execution_count": 18,
   "id": "f0415335-9e8e-4566-baf1-8df8dc1de0d3",
   "metadata": {},
   "outputs": [],
   "source": [
    "# Function to save results into a CSV file\n",
    "def save_to_csv(papers: List[dict], filename: str) -> None:\n",
    "    df = pd.DataFrame(papers)\n",
    "    df.to_csv(filename, index=False)\n"
   ]
  },
  {
   "cell_type": "code",
   "execution_count": 2,
   "id": "ece5f295-b1c4-4812-9de5-069cd2f6cf3a",
   "metadata": {},
   "outputs": [
    {
     "name": "stdout",
     "output_type": "stream",
     "text": [
      "Poetry (version 2.0.0)\n"
     ]
    }
   ],
   "source": [
    "!poetry --version\n",
    "\n"
   ]
  },
  {
   "cell_type": "code",
   "execution_count": 3,
   "id": "96212e2f-eec9-4c64-9e32-b0305079cbac",
   "metadata": {},
   "outputs": [
    {
     "name": "stdout",
     "output_type": "stream",
     "text": [
      "Installing dependencies from lock file\n",
      "\n",
      "No dependencies to install or update\n",
      "\n",
      "Installing the current project: fetch-papers (0.1.0)\n"
     ]
    }
   ],
   "source": [
    "!poetry install\n"
   ]
  },
  {
   "cell_type": "code",
   "execution_count": 5,
   "id": "8e95ec59-afb5-48e9-a345-8e7fe5089e92",
   "metadata": {},
   "outputs": [
    {
     "name": "stderr",
     "output_type": "stream",
     "text": [
      "'get_papers_list' is not recognized as an internal or external command,\n",
      "operable program or batch file.\n"
     ]
    }
   ],
   "source": [
    "!poetry run get_papers_list \"gene therapy\" -d -f \"gene-therapy.csv\"\n"
   ]
  },
  {
   "cell_type": "code",
   "execution_count": null,
   "id": "b0c8c5fa-7d1d-48eb-9fcc-51c4704d9a04",
   "metadata": {},
   "outputs": [],
   "source": []
  },
  {
   "cell_type": "code",
   "execution_count": 12,
   "id": "471c105e-80f1-4565-8d5f-ba355e53ea78",
   "metadata": {},
   "outputs": [
    {
     "name": "stdout",
     "output_type": "stream",
     "text": [
      "\n",
      "Description:\n",
      "  Lists commands.\n",
      "\n",
      "Usage:\n",
      "  list [options] [--] [<namespace>]\n",
      "\n",
      "Arguments:\n",
      "  namespace                  The namespace name\n",
      "\n",
      "Options:\n",
      "  -h, --help                 Display help for the given command. When no command is given display help for the list command.\n",
      "  -q, --quiet                Do not output any message.\n",
      "  -V, --version              Display this application version.\n",
      "      --ansi                 Force ANSI output.\n",
      "      --no-ansi              Disable ANSI output.\n",
      "  -n, --no-interaction       Do not ask any interactive question.\n",
      "      --no-plugins           Disables plugins.\n",
      "      --no-cache             Disables Poetry source caches.\n",
      "  -P, --project=PROJECT      Specify another path as the project root. All command-line arguments will be resolved relative to the current working directory.\n",
      "  -C, --directory=DIRECTORY  The working directory for the Poetry command (defaults to the current working directory). All command-line arguments will be resolved relative to the given directory.\n",
      "  -v|vv|vvv, --verbose       Increase the verbosity of messages: 1 for normal output, 2 for more verbose output and 3 for debug.\n",
      "\n",
      "Help:\n",
      "  The list command lists all commands:\n",
      "  \n",
      "    poetry list\n",
      "  \n",
      "  You can also display the commands for a specific namespace:\n",
      "  \n",
      "    poetry list test\n",
      "  \n"
     ]
    }
   ],
   "source": [
    "!poetry -h"
   ]
  },
  {
   "cell_type": "code",
   "execution_count": null,
   "id": "1b998d77-7cb9-4f3d-8da5-b57ee3104ded",
   "metadata": {},
   "outputs": [],
   "source": []
  }
 ],
 "metadata": {
  "kernelspec": {
   "display_name": "Python 3 (ipykernel)",
   "language": "python",
   "name": "python3"
  },
  "language_info": {
   "codemirror_mode": {
    "name": "ipython",
    "version": 3
   },
   "file_extension": ".py",
   "mimetype": "text/x-python",
   "name": "python",
   "nbconvert_exporter": "python",
   "pygments_lexer": "ipython3",
   "version": "3.11.7"
  }
 },
 "nbformat": 4,
 "nbformat_minor": 5
}
