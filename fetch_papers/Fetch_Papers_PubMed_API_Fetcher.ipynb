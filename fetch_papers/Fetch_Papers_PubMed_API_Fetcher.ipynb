{
 "cells": [
  {
   "cell_type": "code",
   "execution_count": 6,
   "id": "0ae70071-1518-4b37-a12a-f141b9bc94b6",
   "metadata": {},
   "outputs": [],
   "source": [
    "# Import required libraries\n",
    "import requests\n",
    "import pandas as pd\n",
    "from typing import List"
   ]
  },
  {
   "cell_type": "code",
   "execution_count": 12,
   "id": "8a58aee6-8124-4502-bee5-461e0383c7df",
   "metadata": {},
   "outputs": [],
   "source": [
    "# Function to fetch papers from PubMed API\n",
    "def get_papers_list(query: str) -> List[dict]:\n",
    "    # URL for PubMed API (Entrez)\n",
    "    url = \"https://eutils.ncbi.nlm.nih.gov/entrez/eutils/esearch.fcgi\"\n",
    "    \n",
    "    # API request to search PubMed using the query\n",
    "    response = requests.get(url, params={\"db\": \"pubmed\", \"term\": query, \"retmode\": \"json\"})\n",
    "    data = response.json()\n",
    "\n",
    "    # Extract PubMed IDs from the response\n",
    "    paper_ids = data.get(\"esearchresult\", {}).get(\"idlist\", [])\n",
    "\n",
    "    # URL to fetch detailed paper information\n",
    "    fetch_url = \"https://eutils.ncbi.nlm.nih.gov/entrez/eutils/esummary.fcgi\"\n",
    "    \n",
    "    papers = []\n",
    "    \n",
    "    # Loop through each paper ID and fetch the details\n",
    "    for paper_id in paper_ids:\n",
    "        response = requests.get(fetch_url, params={\"db\": \"pubmed\", \"id\": paper_id, \"retmode\": \"json\"})\n",
    "        paper_data = response.json().get(\"result\", {}).get(paper_id, {})\n",
    "        \n",
    "        title = paper_data.get(\"title\", \"N/A\")\n",
    "        publication_date = paper_data.get(\"pubdate\", \"N/A\")\n",
    "        authors = paper_data.get(\"authors\", [])\n",
    "        \n",
    "        # Filter non-academic authors and pharmaceutical/biotech companies\n",
    "        non_academic_authors = []\n",
    "        company_affiliations = []\n",
    "        corresponding_email = None\n",
    "        \n",
    "        for author in authors:\n",
    "            name = author.get(\"name\", \"\")\n",
    "            affiliation = author.get(\"affiliation\", \"\")\n",
    "            email = author.get(\"email\", \"\")\n",
    "\n",
    "            if \"university\" in affiliation.lower() or \"lab\" in affiliation.lower():\n",
    "                continue  # Skip academic affiliations\n",
    "            else:\n",
    "                non_academic_authors.append(name)\n",
    "                if \"pharmaceutical\" in affiliation.lower() or \"biotech\" in affiliation.lower():\n",
    "                    company_affiliations.append(affiliation)\n",
    "            \n",
    "            if email:\n",
    "                corresponding_email = email\n",
    "\n",
    "        # Ensure empty fields are represented as \"N/A\"\n",
    "        corresponding_email = corresponding_email if corresponding_email else \"N/A\"\n",
    "        company_affiliations = ', '.join(company_affiliations) if company_affiliations else \"N/A\"        \n",
    "\n",
    "        papers.append({\n",
    "            \"PubmedID\": paper_id,\n",
    "            \"Title\": title,\n",
    "            \"Publication Date\": publication_date,\n",
    "            \"Non-academic Author(s)\": ', '.join(non_academic_authors),\n",
    "            \"Company Affiliation(s)\": ', '.join(company_affiliations),\n",
    "            \"Corresponding Author Email\": corresponding_email\n",
    "        })\n",
    "    \n",
    "    return papers\n"
   ]
  },
  {
   "cell_type": "code",
   "execution_count": 8,
   "id": "f0415335-9e8e-4566-baf1-8df8dc1de0d3",
   "metadata": {},
   "outputs": [],
   "source": [
    "# Function to save results into a CSV file\n",
    "def save_to_csv(papers: List[dict], filename: str) -> None:\n",
    "    df = pd.DataFrame(papers)\n",
    "    df.to_csv(filename, index=False)\n"
   ]
  },
  {
   "cell_type": "code",
   "execution_count": 9,
   "id": "ece5f295-b1c4-4812-9de5-069cd2f6cf3a",
   "metadata": {},
   "outputs": [
    {
     "name": "stdout",
     "output_type": "stream",
     "text": [
      "Poetry (version 2.0.0)\n"
     ]
    }
   ],
   "source": [
    "!poetry --version\n",
    "\n"
   ]
  },
  {
   "cell_type": "code",
   "execution_count": 10,
   "id": "96212e2f-eec9-4c64-9e32-b0305079cbac",
   "metadata": {},
   "outputs": [
    {
     "name": "stdout",
     "output_type": "stream",
     "text": [
      "Installing dependencies from lock file\n",
      "\n",
      "No dependencies to install or update\n",
      "\n",
      "Installing the current project: fetch-papers (0.1.0)\n"
     ]
    }
   ],
   "source": [
    "!poetry install\n"
   ]
  },
  {
   "cell_type": "code",
   "execution_count": 15,
   "id": "c95224f8-7a96-4b97-b6a3-b5463938f103",
   "metadata": {},
   "outputs": [
    {
     "data": {
      "text/html": [
       "<div>\n",
       "<style scoped>\n",
       "    .dataframe tbody tr th:only-of-type {\n",
       "        vertical-align: middle;\n",
       "    }\n",
       "\n",
       "    .dataframe tbody tr th {\n",
       "        vertical-align: top;\n",
       "    }\n",
       "\n",
       "    .dataframe thead th {\n",
       "        text-align: right;\n",
       "    }\n",
       "</style>\n",
       "<table border=\"1\" class=\"dataframe\">\n",
       "  <thead>\n",
       "    <tr style=\"text-align: right;\">\n",
       "      <th></th>\n",
       "      <th>PubmedID</th>\n",
       "      <th>Title</th>\n",
       "      <th>Publication Date</th>\n",
       "      <th>Non-academic Author(s)</th>\n",
       "      <th>Company Affiliation(s)</th>\n",
       "      <th>Corresponding Author Email</th>\n",
       "    </tr>\n",
       "  </thead>\n",
       "  <tbody>\n",
       "    <tr>\n",
       "      <th>0</th>\n",
       "      <td>39764674</td>\n",
       "      <td>Technological advances in clinical individuali...</td>\n",
       "      <td>2025 Jan 7</td>\n",
       "      <td>Kai J, Liu X, Wu M, Liu P, Lin M, Yang H, Zhao Q</td>\n",
       "      <td>N, /, A</td>\n",
       "      <td>N/A</td>\n",
       "    </tr>\n",
       "    <tr>\n",
       "      <th>1</th>\n",
       "      <td>39764669</td>\n",
       "      <td>Effects of miRNAs in inborn error of metabolis...</td>\n",
       "      <td>2025 Jan 7</td>\n",
       "      <td>Bayrak H, Sharafi P, Özketen AÇ, Kılıç M</td>\n",
       "      <td>N, /, A</td>\n",
       "      <td>N/A</td>\n",
       "    </tr>\n",
       "    <tr>\n",
       "      <th>2</th>\n",
       "      <td>39764565</td>\n",
       "      <td>Sarcopenia and cachexia: molecular mechanisms ...</td>\n",
       "      <td>2025 Jan</td>\n",
       "      <td>Wang T, Zhou D, Hong Z</td>\n",
       "      <td>N, /, A</td>\n",
       "      <td>N/A</td>\n",
       "    </tr>\n",
       "    <tr>\n",
       "      <th>3</th>\n",
       "      <td>39764561</td>\n",
       "      <td>Multiorgan proteomic analysis of infected anim...</td>\n",
       "      <td>2025 Jan</td>\n",
       "      <td>Lin D, Tang C, Wang J, Yang Y, Yang H, Zhou Y,...</td>\n",
       "      <td>N, /, A</td>\n",
       "      <td>N/A</td>\n",
       "    </tr>\n",
       "    <tr>\n",
       "      <th>4</th>\n",
       "      <td>39764560</td>\n",
       "      <td>Prolyl 4-hydroxylase α-subunit family regulati...</td>\n",
       "      <td>2025 Jan</td>\n",
       "      <td>Yang X, Li Y, Shen X, Wang S, Zhang Z, Du W, Y...</td>\n",
       "      <td>N, /, A</td>\n",
       "      <td>N/A</td>\n",
       "    </tr>\n",
       "  </tbody>\n",
       "</table>\n",
       "</div>"
      ],
      "text/plain": [
       "   PubmedID                                              Title  \\\n",
       "0  39764674  Technological advances in clinical individuali...   \n",
       "1  39764669  Effects of miRNAs in inborn error of metabolis...   \n",
       "2  39764565  Sarcopenia and cachexia: molecular mechanisms ...   \n",
       "3  39764561  Multiorgan proteomic analysis of infected anim...   \n",
       "4  39764560  Prolyl 4-hydroxylase α-subunit family regulati...   \n",
       "\n",
       "  Publication Date                             Non-academic Author(s)  \\\n",
       "0       2025 Jan 7   Kai J, Liu X, Wu M, Liu P, Lin M, Yang H, Zhao Q   \n",
       "1       2025 Jan 7           Bayrak H, Sharafi P, Özketen AÇ, Kılıç M   \n",
       "2         2025 Jan                             Wang T, Zhou D, Hong Z   \n",
       "3         2025 Jan  Lin D, Tang C, Wang J, Yang Y, Yang H, Zhou Y,...   \n",
       "4         2025 Jan  Yang X, Li Y, Shen X, Wang S, Zhang Z, Du W, Y...   \n",
       "\n",
       "  Company Affiliation(s) Corresponding Author Email  \n",
       "0                N, /, A                        N/A  \n",
       "1                N, /, A                        N/A  \n",
       "2                N, /, A                        N/A  \n",
       "3                N, /, A                        N/A  \n",
       "4                N, /, A                        N/A  "
      ]
     },
     "execution_count": 15,
     "metadata": {},
     "output_type": "execute_result"
    }
   ],
   "source": [
    "# Fetch papers using the get_papers_list function\n",
    "papers = get_papers_list(\"gene therapy\")\n",
    "\n",
    "# Create a DataFrame from the fetched papers\n",
    "import pandas as pd\n",
    "papers_df = pd.DataFrame(papers)\n",
    "\n",
    "# Display the first 5 rows\n",
    "papers_df.head()\n"
   ]
  },
  {
   "cell_type": "code",
   "execution_count": 13,
   "id": "8e95ec59-afb5-48e9-a345-8e7fe5089e92",
   "metadata": {},
   "outputs": [
    {
     "name": "stdout",
     "output_type": "stream",
     "text": [
      "Fetching papers for query: gene therapy\n",
      "Found 20 papers.\n",
      "Saved results to gene-therapy.csv\n"
     ]
    }
   ],
   "source": [
    "!poetry run get-papers-list \"gene therapy\" -d -f \"gene-therapy.csv\"\n"
   ]
  },
  {
   "cell_type": "code",
   "execution_count": 12,
   "id": "471c105e-80f1-4565-8d5f-ba355e53ea78",
   "metadata": {},
   "outputs": [
    {
     "name": "stdout",
     "output_type": "stream",
     "text": [
      "\n",
      "Description:\n",
      "  Lists commands.\n",
      "\n",
      "Usage:\n",
      "  list [options] [--] [<namespace>]\n",
      "\n",
      "Arguments:\n",
      "  namespace                  The namespace name\n",
      "\n",
      "Options:\n",
      "  -h, --help                 Display help for the given command. When no command is given display help for the list command.\n",
      "  -q, --quiet                Do not output any message.\n",
      "  -V, --version              Display this application version.\n",
      "      --ansi                 Force ANSI output.\n",
      "      --no-ansi              Disable ANSI output.\n",
      "  -n, --no-interaction       Do not ask any interactive question.\n",
      "      --no-plugins           Disables plugins.\n",
      "      --no-cache             Disables Poetry source caches.\n",
      "  -P, --project=PROJECT      Specify another path as the project root. All command-line arguments will be resolved relative to the current working directory.\n",
      "  -C, --directory=DIRECTORY  The working directory for the Poetry command (defaults to the current working directory). All command-line arguments will be resolved relative to the given directory.\n",
      "  -v|vv|vvv, --verbose       Increase the verbosity of messages: 1 for normal output, 2 for more verbose output and 3 for debug.\n",
      "\n",
      "Help:\n",
      "  The list command lists all commands:\n",
      "  \n",
      "    poetry list\n",
      "  \n",
      "  You can also display the commands for a specific namespace:\n",
      "  \n",
      "    poetry list test\n",
      "  \n"
     ]
    }
   ],
   "source": [
    "!poetry -h"
   ]
  },
  {
   "cell_type": "code",
   "execution_count": null,
   "id": "1b998d77-7cb9-4f3d-8da5-b57ee3104ded",
   "metadata": {},
   "outputs": [],
   "source": []
  }
 ],
 "metadata": {
  "kernelspec": {
   "display_name": "Python 3 (ipykernel)",
   "language": "python",
   "name": "python3"
  },
  "language_info": {
   "codemirror_mode": {
    "name": "ipython",
    "version": 3
   },
   "file_extension": ".py",
   "mimetype": "text/x-python",
   "name": "python",
   "nbconvert_exporter": "python",
   "pygments_lexer": "ipython3",
   "version": "3.11.7"
  }
 },
 "nbformat": 4,
 "nbformat_minor": 5
}
